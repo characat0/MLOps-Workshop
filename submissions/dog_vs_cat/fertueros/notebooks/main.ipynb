{
 "cells": [
  {
   "cell_type": "code",
   "execution_count": 1,
   "id": "00d5b532-290e-43a1-9707-e5c6bf227f32",
   "metadata": {},
   "outputs": [],
   "source": [
    "import torch, torchvision\n",
    "from torchvision import transforms\n",
    "from torch.utils.data import DataLoader"
   ]
  },
  {
   "cell_type": "code",
   "execution_count": 2,
   "id": "c934d4b0-e052-4c2e-9217-1b3c9245677d",
   "metadata": {},
   "outputs": [],
   "source": [
    "tf_train = transforms.Compose([\n",
    "    transforms.Resize((128,128)),\n",
    "    transforms.RandomHorizontalFlip(),\n",
    "    transforms.ToTensor(),\n",
    "    transforms.Normalize([0.5]*3, [0.5]*3),\n",
    "])\n",
    "tf_eval = transforms.Compose([\n",
    "    transforms.Resize((128,128)),\n",
    "    transforms.ToTensor(),\n",
    "    transforms.Normalize([0.5]*3, [0.5]*3),\n",
    "])"
   ]
  },
  {
   "cell_type": "code",
   "execution_count": 3,
   "id": "025d4749-c35e-4f0f-99c8-5bf607b1f9f3",
   "metadata": {},
   "outputs": [
    {
     "name": "stdout",
     "output_type": "stream",
     "text": [
      "Downloading https://thor.robots.ox.ac.uk/pets/images.tar.gz to ../data/oxford-iiit-pet/images.tar.gz\n"
     ]
    },
    {
     "name": "stderr",
     "output_type": "stream",
     "text": [
      "100%|███████████████████████████████████████████████████████████████████████████████████████████████████████████████████████████████████████████████████████████████████████████████████████████| 792M/792M [00:36<00:00, 21.4MB/s]\n"
     ]
    },
    {
     "name": "stdout",
     "output_type": "stream",
     "text": [
      "Extracting ../data/oxford-iiit-pet/images.tar.gz to ../data/oxford-iiit-pet\n",
      "Downloading https://thor.robots.ox.ac.uk/pets/annotations.tar.gz to ../data/oxford-iiit-pet/annotations.tar.gz\n"
     ]
    },
    {
     "name": "stderr",
     "output_type": "stream",
     "text": [
      "100%|█████████████████████████████████████████████████████████████████████████████████████████████████████████████████████████████████████████████████████████████████████████████████████████| 19.2M/19.2M [00:01<00:00, 10.5MB/s]\n"
     ]
    },
    {
     "name": "stdout",
     "output_type": "stream",
     "text": [
      "Extracting ../data/oxford-iiit-pet/annotations.tar.gz to ../data/oxford-iiit-pet\n"
     ]
    }
   ],
   "source": [
    "train = torchvision.datasets.OxfordIIITPet(\n",
    "    root=\"../data\",\n",
    "    split=\"trainval\",\n",
    "    target_types=\"binary-category\",  # 0=Cat, 1=Dog\n",
    "    download=True,\n",
    "    transform=tf_train\n",
    ")"
   ]
  },
  {
   "cell_type": "code",
   "execution_count": 4,
   "id": "fa88d8e2-91c3-4500-806f-8934a05e0764",
   "metadata": {},
   "outputs": [],
   "source": [
    "test = torchvision.datasets.OxfordIIITPet(\n",
    "    root=\"../data\",\n",
    "    split=\"test\",\n",
    "    target_types=\"binary-category\",\n",
    "    download=True,\n",
    "    transform=tf_eval\n",
    ")"
   ]
  },
  {
   "cell_type": "code",
   "execution_count": 5,
   "id": "c621501f-d130-4614-95d3-9838d180e750",
   "metadata": {},
   "outputs": [],
   "source": [
    "train_loader = DataLoader(train, batch_size=64, shuffle=True, num_workers=2)\n",
    "test_loader  = DataLoader(test,  batch_size=64, shuffle=False, num_workers=2)"
   ]
  },
  {
   "cell_type": "code",
   "execution_count": 6,
   "id": "79cc0d1c-11a4-436e-9608-848646b7e790",
   "metadata": {},
   "outputs": [],
   "source": [
    "import torch.nn as nn, torch.optim as optim\n",
    "\n",
    "model = nn.Sequential(\n",
    "    nn.Conv2d(3,16,3,padding=1), nn.ReLU(), nn.MaxPool2d(2),   # 128->64\n",
    "    nn.Conv2d(16,32,3,padding=1), nn.ReLU(), nn.MaxPool2d(2),  # 64->32\n",
    "    nn.Conv2d(32,64,3,padding=1), nn.ReLU(),\n",
    "    nn.AdaptiveAvgPool2d((1,1)),\n",
    "    nn.Flatten(),\n",
    "    nn.Linear(64,2)\n",
    ")\n",
    "\n",
    "criterion = nn.CrossEntropyLoss()\n",
    "optimizer = optim.Adam(model.parameters(), lr=1e-3)"
   ]
  },
  {
   "cell_type": "code",
   "execution_count": 7,
   "id": "785462b4-408e-469b-a29b-84559a87acec",
   "metadata": {},
   "outputs": [
    {
     "name": "stdout",
     "output_type": "stream",
     "text": [
      "Epoch 1 - Loss: 0.6429\n",
      "Epoch 2 - Loss: 0.6199\n"
     ]
    }
   ],
   "source": [
    "for epoch in range(2):\n",
    "    model.train()\n",
    "    running = 0.0\n",
    "    for x,y in train_loader:\n",
    "        optimizer.zero_grad()\n",
    "        out = model(x)\n",
    "        loss = criterion(out, y)\n",
    "        loss.backward()\n",
    "        optimizer.step()\n",
    "        running += loss.item()\n",
    "    print(f\"Epoch {epoch+1} - Loss: {running/len(train_loader):.4f}\")"
   ]
  },
  {
   "cell_type": "code",
   "execution_count": 8,
   "id": "68c7047b-09ff-4531-bc9d-656383f5bc14",
   "metadata": {},
   "outputs": [],
   "source": [
    "import os, pathlib, torch\n",
    "models_dir = pathlib.Path(\"../data/models\"); models_dir.mkdir(parents=True, exist_ok=True)\n",
    "torch.save(model.state_dict(), models_dir/\"catsdogs_model.pth\")"
   ]
  }
 ],
 "metadata": {
  "kernelspec": {
   "display_name": "Python 3 (ipykernel)",
   "language": "python",
   "name": "python3"
  },
  "language_info": {
   "codemirror_mode": {
    "name": "ipython",
    "version": 3
   },
   "file_extension": ".py",
   "mimetype": "text/x-python",
   "name": "python",
   "nbconvert_exporter": "python",
   "pygments_lexer": "ipython3",
   "version": "3.10.18"
  }
 },
 "nbformat": 4,
 "nbformat_minor": 5
}
