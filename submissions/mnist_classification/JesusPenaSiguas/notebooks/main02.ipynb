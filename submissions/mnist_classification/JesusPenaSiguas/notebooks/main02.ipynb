{
 "cells": [
  {
   "cell_type": "code",
   "execution_count": 1,
   "id": "96786860",
   "metadata": {},
   "outputs": [],
   "source": [
    "import torch, torchvision\n",
    "from torch.utils.data import TensorDataset, DataLoader"
   ]
  },
  {
   "cell_type": "code",
   "execution_count": 2,
   "id": "b79a0ba0",
   "metadata": {},
   "outputs": [],
   "source": [
    "train = torchvision.datasets.MNIST(root=\"../data\", train=True, download=True, transform=torchvision.transforms.ToTensor())\n",
    "train_loader = DataLoader(train, batch_size=64, shuffle=True)\n"
   ]
  },
  {
   "cell_type": "code",
   "execution_count": 3,
   "id": "341b761e",
   "metadata": {},
   "outputs": [],
   "source": [
    "import torch.nn as nn\n",
    "import torch.optim as optim"
   ]
  },
  {
   "cell_type": "code",
   "execution_count": 4,
   "id": "a5a8c3f3",
   "metadata": {},
   "outputs": [],
   "source": [
    "import matplotlib.pyplot as plt"
   ]
  },
  {
   "cell_type": "code",
   "execution_count": 5,
   "id": "4db5894a",
   "metadata": {},
   "outputs": [
    {
     "data": {
      "text/plain": [
       "5"
      ]
     },
     "execution_count": 5,
     "metadata": {},
     "output_type": "execute_result"
    }
   ],
   "source": [
    "train[0][1]"
   ]
  },
  {
   "cell_type": "code",
   "execution_count": 6,
   "id": "75dd66f9",
   "metadata": {},
   "outputs": [
    {
     "data": {
      "text/plain": [
       "<matplotlib.image.AxesImage at 0x157990f50>"
      ]
     },
     "execution_count": 6,
     "metadata": {},
     "output_type": "execute_result"
    },
    {
     "data": {
      "image/png": "[encoded data removed]",
      "text/plain": [
       "<Figure size 640x480 with 1 Axes>"
      ]
     },
     "metadata": {},
     "output_type": "display_data"
    }
   ],
   "source": [
    "plt.imshow(train[0][0][0, :, :], cmap=\"gray\")"
   ]
  },
  {
   "cell_type": "code",
   "execution_count": 7,
   "id": "7b20ada7",
   "metadata": {},
   "outputs": [],
   "source": [
    "model = nn.Sequential(\n",
    "    nn.Flatten(),\n",
    "    nn.Linear(28*28,128),\n",
    "    nn.ReLU(),\n",
    "    nn.Linear(128,64),\n",
    "    nn.ReLU(),\n",
    "    nn.Linear(64,10)\n",
    ")"
   ]
  },
  {
   "cell_type": "code",
   "execution_count": 8,
   "id": "f9625c3d",
   "metadata": {},
   "outputs": [
    {
     "data": {
      "text/plain": [
       "Sequential(\n",
       "  (0): Flatten(start_dim=1, end_dim=-1)\n",
       "  (1): Linear(in_features=784, out_features=128, bias=True)\n",
       "  (2): ReLU()\n",
       "  (3): Linear(in_features=128, out_features=64, bias=True)\n",
       "  (4): ReLU()\n",
       "  (5): Linear(in_features=64, out_features=10, bias=True)\n",
       ")"
      ]
     },
     "execution_count": 8,
     "metadata": {},
     "output_type": "execute_result"
    }
   ],
   "source": [
    "model"
   ]
  },
  {
   "cell_type": "code",
   "execution_count": 9,
   "id": "0c8cbff2",
   "metadata": {},
   "outputs": [],
   "source": [
    "criterion = nn.CrossEntropyLoss()\n",
    "optimizer = optim.Adam(model.parameters(), lr=0.001)"
   ]
  },
  {
   "cell_type": "code",
   "execution_count": 10,
   "id": "f099effd",
   "metadata": {},
   "outputs": [
    {
     "name": "stdout",
     "output_type": "stream",
     "text": [
      "tensor([6, 2, 9, 3, 7, 7, 9, 5, 9, 1, 3, 9, 7, 7, 3, 3, 5, 9, 2, 3, 8, 9, 8, 1,\n",
      "        5, 3, 8, 1, 9, 5, 9, 3, 7, 4, 3, 2, 2, 8, 9, 7, 2, 1, 2, 4, 8, 6, 2, 1,\n",
      "        9, 9, 1, 0, 9, 8, 9, 1, 2, 6, 7, 5, 2, 9, 0, 0])\n",
      "Epoch 1, Loss: 0.0000\n",
      "tensor([9, 2, 1, 5, 7, 5, 0, 6, 8, 9, 1, 8, 7, 1, 6, 6, 2, 0, 5, 3, 1, 3, 4, 2,\n",
      "        0, 1, 4, 2, 2, 0, 8, 8, 0, 4, 1, 5, 0, 6, 2, 1, 7, 9, 2, 6, 3, 1, 0, 9,\n",
      "        4, 8, 2, 5, 6, 2, 3, 9, 2, 2, 9, 1, 5, 7, 9, 6])\n",
      "Epoch 2, Loss: 0.0000\n",
      "tensor([1, 9, 9, 7, 8, 8, 0, 5, 8, 2, 9, 0, 9, 1, 5, 5, 3, 4, 5, 1, 9, 5, 6, 1,\n",
      "        7, 1, 0, 1, 0, 2, 3, 5, 5, 7, 9, 3, 3, 7, 2, 3, 0, 6, 7, 4, 4, 2, 4, 8,\n",
      "        8, 6, 6, 5, 0, 8, 9, 0, 8, 6, 9, 9, 7, 6, 5, 2])\n",
      "Epoch 3, Loss: 0.0000\n",
      "tensor([9, 9, 9, 6, 1, 2, 3, 3, 6, 9, 7, 1, 9, 5, 0, 1, 3, 3, 9, 7, 7, 2, 1, 0,\n",
      "        4, 5, 0, 8, 0, 9, 8, 9, 7, 7, 6, 1, 9, 6, 8, 9, 0, 5, 1, 6, 8, 2, 3, 5,\n",
      "        6, 4, 0, 0, 7, 3, 2, 1, 7, 4, 6, 6, 2, 3, 8, 8])\n",
      "Epoch 4, Loss: 0.0000\n",
      "tensor([3, 5, 5, 9, 0, 2, 1, 2, 8, 9, 4, 6, 9, 4, 1, 0, 5, 6, 9, 3, 6, 6, 6, 1,\n",
      "        0, 4, 1, 4, 9, 9, 0, 0, 6, 3, 7, 4, 3, 3, 4, 8, 3, 7, 9, 2, 1, 6, 9, 9,\n",
      "        5, 7, 9, 3, 3, 0, 0, 7, 0, 5, 6, 9, 6, 2, 0, 8])\n",
      "Epoch 5, Loss: 0.0000\n",
      "tensor([0, 6, 3, 3, 4, 2, 4, 6, 0, 9, 3, 4, 8, 7, 3, 2, 6, 9, 1, 4, 0, 9, 1, 0,\n",
      "        6, 1, 7, 2, 5, 6, 1, 1, 8, 8, 6, 2, 6, 5, 2, 6, 3, 9, 8, 1, 1, 3, 5, 9,\n",
      "        0, 9, 9, 4, 8, 8, 8, 7, 1, 7, 6, 4, 0, 5, 6, 0])\n",
      "Epoch 6, Loss: 0.0000\n",
      "tensor([4, 3, 7, 2, 1, 4, 9, 4, 6, 3, 8, 8, 3, 6, 8, 1, 9, 7, 8, 0, 3, 1, 9, 8,\n",
      "        5, 2, 0, 8, 6, 6, 6, 9, 6, 5, 0, 2, 7, 7, 5, 7, 1, 4, 2, 1, 5, 7, 4, 0,\n",
      "        1, 4, 8, 8, 2, 1, 0, 0, 9, 0, 9, 6, 4, 0, 3, 1])\n",
      "Epoch 7, Loss: 0.0000\n",
      "tensor([7, 4, 4, 0, 3, 2, 1, 5, 7, 4, 9, 4, 2, 8, 4, 0, 2, 1, 0, 5, 0, 2, 8, 6,\n",
      "        6, 4, 2, 3, 4, 2, 2, 0, 7, 2, 9, 1, 1, 1, 7, 6, 9, 8, 3, 5, 7, 0, 5, 8,\n",
      "        2, 9, 7, 7, 2, 3, 5, 7, 6, 4, 7, 4, 3, 6, 4, 5])\n",
      "Epoch 8, Loss: 0.0000\n",
      "tensor([2, 2, 4, 9, 2, 9, 6, 3, 5, 5, 5, 6, 2, 2, 3, 7, 9, 6, 5, 1, 3, 7, 8, 5,\n",
      "        9, 4, 0, 8, 1, 9, 2, 9, 8, 1, 9, 2, 3, 4, 5, 5, 6, 9, 8, 1, 2, 7, 4, 1,\n",
      "        8, 0, 2, 2, 8, 4, 6, 5, 6, 3, 9, 7, 5, 0, 2, 3])\n",
      "Epoch 9, Loss: 0.0000\n",
      "tensor([9, 4, 7, 8, 6, 7, 7, 6, 2, 1, 6, 6, 1, 3, 1, 9, 0, 8, 7, 8, 4, 0, 4, 1,\n",
      "        3, 3, 9, 9, 7, 5, 4, 9, 5, 7, 4, 9, 4, 1, 7, 2, 6, 3, 6, 2, 4, 3, 3, 5,\n",
      "        5, 1, 4, 5, 7, 0, 6, 6, 3, 1, 1, 4, 7, 8, 9, 7])\n",
      "Epoch 10, Loss: 0.0000\n",
      "tensor([5, 8, 1, 9, 7, 6, 7, 6, 8, 6, 6, 4, 1, 8, 3, 0, 5, 3, 3, 9, 7, 1, 1, 1,\n",
      "        7, 1, 6, 3, 8, 6, 2, 7, 6, 7, 1, 8, 0, 3, 2, 8, 3, 6, 8, 1, 6, 0, 0, 0,\n",
      "        2, 9, 9, 0, 7, 1, 4, 6, 0, 2, 4, 3, 0, 5, 7, 6])\n",
      "Epoch 11, Loss: 0.0000\n",
      "tensor([1, 0, 9, 6, 7, 2, 9, 2, 0, 7, 1, 2, 1, 9, 1, 9, 8, 6, 6, 8, 2, 4, 7, 9,\n",
      "        4, 2, 3, 7, 4, 9, 9, 4, 0, 7, 1, 0, 3, 9, 2, 2, 5, 3, 0, 0, 4, 5, 4, 3,\n",
      "        9, 5, 3, 2, 1, 1, 6, 0, 2, 8, 9, 4, 0, 2, 1, 9])\n",
      "Epoch 12, Loss: 0.0000\n",
      "tensor([8, 2, 9, 6, 9, 6, 4, 4, 9, 9, 0, 6, 9, 1, 0, 3, 1, 8, 6, 7, 7, 8, 9, 8,\n",
      "        3, 9, 9, 4, 6, 7, 4, 0, 2, 7, 2, 5, 8, 5, 3, 6, 9, 8, 5, 7, 8, 6, 3, 0,\n",
      "        8, 1, 9, 7, 4, 1, 4, 7, 9, 1, 7, 1, 0, 3, 5, 9])\n",
      "Epoch 13, Loss: 0.0000\n",
      "tensor([5, 3, 1, 2, 0, 3, 1, 9, 3, 6, 4, 2, 3, 2, 3, 4, 4, 1, 3, 3, 8, 1, 7, 9,\n",
      "        0, 1, 9, 0, 9, 0, 4, 1, 4, 4, 4, 1, 6, 2, 2, 8, 1, 9, 8, 7, 1, 4, 8, 6,\n",
      "        7, 7, 7, 9, 0, 7, 4, 0, 1, 6, 2, 3, 6, 1, 2, 0])\n",
      "Epoch 14, Loss: 0.0000\n",
      "tensor([7, 1, 6, 5, 6, 9, 6, 1, 9, 9, 4, 9, 9, 9, 5, 4, 0, 8, 9, 0, 2, 7, 9, 2,\n",
      "        6, 1, 2, 5, 5, 7, 7, 8, 8, 8, 0, 2, 9, 1, 7, 0, 6, 6, 8, 4, 0, 4, 5, 8,\n",
      "        4, 3, 9, 8, 0, 3, 2, 9, 3, 4, 5, 3, 3, 2, 0, 3])\n",
      "Epoch 15, Loss: 0.0000\n"
     ]
    }
   ],
   "source": [
    "for epoch in range(15):\n",
    "    running_loss = 0.0\n",
    "    for images, labels in train_loader:\n",
    "        optimizer.zero_grad()\n",
    "        print(labels)\n",
    "        break\n",
    "        outputs = model(images)\n",
    "        loss = criterion(outputs, labels)\n",
    "        loss.backward()\n",
    "        optimizer.step()\n",
    "\n",
    "        running_loss += loss.item()\n",
    "    print(f\"Epoch {epoch+1}, Loss: {running_loss/len(train_loader):.4f}\")"
   ]
  },
  {
   "cell_type": "code",
   "execution_count": 11,
   "id": "8f32f301",
   "metadata": {},
   "outputs": [],
   "source": [
    "torch.save(model.state_dict(), \"../data/models/mnist_model.pth\")"
   ]
  },
  {
   "cell_type": "code",
   "execution_count": null,
   "id": "429626c2",
   "metadata": {},
   "outputs": [],
   "source": []
  }
 ],
 "metadata": {
  "kernelspec": {
   "display_name": ".venv",
   "language": "python",
   "name": "python3"
  },
  "language_info": {
   "codemirror_mode": {
    "name": "ipython",
    "version": 3
   },
   "file_extension": ".py",
   "mimetype": "text/x-python",
   "name": "python",
   "nbconvert_exporter": "python",
   "pygments_lexer": "ipython3",
   "version": "3.12.2"
  }
 },
 "nbformat": 4,
 "nbformat_minor": 5
}
