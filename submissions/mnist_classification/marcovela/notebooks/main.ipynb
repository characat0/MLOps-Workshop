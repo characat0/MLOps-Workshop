{
 "cells": [
  {
   "cell_type": "code",
   "execution_count": null,
   "id": "c69744dc",
   "metadata": {},
   "outputs": [],
   "source": [
    "print(\"Hello world\")"
   ]
  },
  {
   "cell_type": "code",
   "execution_count": null,
   "id": "96786860",
   "metadata": {},
   "outputs": [],
   "source": [
    "import torch, torchvision\n",
    "from torch.utils.data import TensorDataset, DataLoader"
   ]
  },
  {
   "cell_type": "code",
   "execution_count": null,
   "id": "b79a0ba0",
   "metadata": {},
   "outputs": [],
   "source": [
    "train = torchvision.datasets.MNIST(root=\"../data\", train=True, download=True, transform=torchvision.transforms.ToTensor())\n",
    "train_loader = DataLoader(train, batch_size=64, shuffle=True)\n"
   ]
  },
  {
   "cell_type": "code",
   "execution_count": 29,
   "id": "341b761e",
   "metadata": {},
   "outputs": [],
   "source": [
    "import torch.nn as nn\n",
    "import torch.optim as optim"
   ]
  },
  {
   "cell_type": "code",
   "execution_count": 35,
   "id": "a5a8c3f3",
   "metadata": {},
   "outputs": [],
   "source": [
    "import matplotlib.pyplot as plt"
   ]
  },
  {
   "cell_type": "code",
   "execution_count": 41,
   "id": "4db5894a",
   "metadata": {},
   "outputs": [
    {
     "data": {
      "text/plain": [
       "5"
      ]
     },
     "execution_count": 41,
     "metadata": {},
     "output_type": "execute_result"
    }
   ],
   "source": [
    "train[0][1]"
   ]
  },
  {
   "cell_type": "code",
   "execution_count": 39,
   "id": "75dd66f9",
   "metadata": {},
   "outputs": [
    {
     "data": {
      "text/plain": [
       "<matplotlib.image.AxesImage at 0x3234549a0>"
      ]
     },
     "execution_count": 39,
     "metadata": {},
     "output_type": "execute_result"
    },
    {
     "data": {
      "image/png": "[encoded data removed]",
      "text/plain": [
       "<Figure size 640x480 with 1 Axes>"
      ]
     },
     "metadata": {},
     "output_type": "display_data"
    }
   ],
   "source": [
    "plt.imshow(train[0][0][0, :, :], cmap=\"gray\")"
   ]
  },
  {
   "cell_type": "code",
   "execution_count": 40,
   "id": "7b20ada7",
   "metadata": {},
   "outputs": [],
   "source": [
    "model = nn.Sequential(\n",
    "    nn.Flatten(),\n",
    "    nn.Linear(28*28,128),\n",
    "    nn.ReLU(),\n",
    "    nn.Linear(128,64),\n",
    "    nn.ReLU(),\n",
    "    nn.Linear(64,10)\n",
    ")"
   ]
  },
  {
   "cell_type": "code",
   "execution_count": 28,
   "id": "f9625c3d",
   "metadata": {},
   "outputs": [
    {
     "data": {
      "text/plain": [
       "Sequential(\n",
       "  (0): Flatten(start_dim=1, end_dim=-1)\n",
       "  (1): Linear(in_features=784, out_features=128, bias=True)\n",
       "  (2): ReLU()\n",
       "  (3): Linear(in_features=128, out_features=64, bias=True)\n",
       "  (4): ReLU()\n",
       "  (5): Linear(in_features=64, out_features=10, bias=True)\n",
       ")"
      ]
     },
     "execution_count": 28,
     "metadata": {},
     "output_type": "execute_result"
    }
   ],
   "source": [
    "model"
   ]
  },
  {
   "cell_type": "code",
   "execution_count": 31,
   "id": "0c8cbff2",
   "metadata": {},
   "outputs": [],
   "source": [
    "criterion = nn.CrossEntropyLoss()\n",
    "optimizer = optim.Adam(model.parameters(), lr=0.001)"
   ]
  },
  {
   "cell_type": "code",
   "execution_count": 42,
   "id": "f099effd",
   "metadata": {},
   "outputs": [
    {
     "name": "stdout",
     "output_type": "stream",
     "text": [
      "tensor([5, 3, 3, 2, 6, 4, 1, 6, 4, 1, 7, 0, 4, 3, 2, 8, 1, 5, 9, 8, 7, 4, 4, 1,\n",
      "        8, 0, 7, 5, 2, 8, 5, 8, 9, 9, 2, 8, 0, 5, 7, 7, 8, 3, 9, 6, 8, 9, 5, 4,\n",
      "        0, 4, 1, 2, 4, 6, 6, 7, 8, 2, 2, 3, 0, 9, 7, 1])\n",
      "Epoch 1, Loss: 0.0000\n",
      "tensor([0, 8, 1, 9, 9, 6, 1, 7, 9, 5, 0, 1, 0, 8, 3, 9, 2, 6, 4, 8, 4, 5, 9, 1,\n",
      "        7, 0, 1, 1, 2, 8, 6, 5, 7, 1, 8, 8, 0, 3, 7, 1, 7, 2, 0, 3, 9, 7, 8, 3,\n",
      "        6, 3, 8, 7, 4, 4, 9, 9, 6, 8, 6, 6, 2, 2, 3, 5])\n",
      "Epoch 2, Loss: 0.0000\n",
      "tensor([1, 7, 6, 0, 8, 5, 5, 4, 5, 9, 1, 7, 8, 6, 9, 6, 5, 6, 1, 6, 1, 4, 2, 2,\n",
      "        6, 8, 1, 1, 6, 0, 4, 3, 4, 1, 1, 1, 9, 8, 6, 4, 0, 7, 0, 7, 7, 4, 9, 8,\n",
      "        9, 1, 0, 1, 7, 2, 1, 9, 8, 2, 3, 0, 3, 5, 4, 1])\n",
      "Epoch 3, Loss: 0.0000\n",
      "tensor([3, 5, 3, 9, 1, 6, 4, 7, 3, 7, 5, 3, 6, 7, 7, 9, 0, 0, 7, 1, 6, 0, 4, 9,\n",
      "        9, 7, 6, 2, 0, 2, 4, 1, 2, 9, 2, 0, 5, 7, 8, 4, 4, 2, 1, 3, 4, 4, 3, 8,\n",
      "        5, 2, 1, 2, 0, 2, 4, 3, 5, 0, 1, 8, 5, 7, 1, 7])\n",
      "Epoch 4, Loss: 0.0000\n",
      "tensor([4, 0, 4, 0, 7, 3, 9, 4, 2, 2, 8, 7, 1, 6, 6, 9, 2, 2, 4, 3, 5, 3, 6, 0,\n",
      "        6, 9, 9, 6, 0, 3, 1, 4, 9, 1, 4, 5, 9, 7, 7, 0, 0, 9, 3, 1, 0, 4, 2, 3,\n",
      "        2, 5, 6, 4, 7, 3, 9, 2, 6, 9, 6, 8, 7, 4, 0, 2])\n",
      "Epoch 5, Loss: 0.0000\n",
      "tensor([4, 6, 1, 1, 1, 7, 5, 4, 9, 8, 4, 4, 7, 6, 1, 1, 2, 4, 3, 3, 7, 5, 0, 1,\n",
      "        9, 6, 7, 1, 7, 6, 0, 2, 5, 5, 1, 5, 8, 1, 3, 2, 2, 0, 8, 0, 6, 8, 0, 3,\n",
      "        3, 9, 8, 1, 2, 9, 5, 4, 8, 9, 2, 6, 5, 4, 5, 5])\n",
      "Epoch 6, Loss: 0.0000\n",
      "tensor([5, 2, 5, 2, 8, 6, 6, 8, 6, 1, 2, 1, 8, 3, 8, 0, 9, 6, 3, 6, 8, 1, 3, 9,\n",
      "        6, 9, 4, 3, 2, 9, 4, 4, 0, 0, 5, 6, 6, 9, 3, 3, 4, 3, 2, 3, 5, 6, 5, 0,\n",
      "        9, 5, 8, 8, 4, 4, 6, 4, 5, 4, 5, 0, 6, 5, 4, 0])\n",
      "Epoch 7, Loss: 0.0000\n",
      "tensor([0, 1, 5, 2, 0, 6, 6, 2, 0, 9, 5, 8, 5, 1, 1, 5, 3, 2, 2, 3, 3, 7, 7, 2,\n",
      "        4, 1, 5, 8, 8, 4, 8, 3, 3, 6, 2, 9, 7, 1, 8, 3, 7, 0, 3, 5, 4, 0, 6, 1,\n",
      "        3, 4, 6, 6, 1, 6, 9, 5, 8, 4, 4, 8, 0, 6, 0, 8])\n",
      "Epoch 8, Loss: 0.0000\n",
      "tensor([7, 9, 1, 2, 2, 9, 3, 1, 4, 9, 1, 1, 1, 7, 6, 9, 8, 8, 3, 3, 9, 5, 2, 7,\n",
      "        9, 8, 3, 8, 9, 8, 2, 8, 9, 5, 4, 6, 3, 1, 4, 2, 3, 4, 9, 8, 8, 8, 3, 1,\n",
      "        5, 4, 6, 3, 1, 0, 6, 9, 2, 2, 1, 9, 7, 8, 3, 4])\n",
      "Epoch 9, Loss: 0.0000\n",
      "tensor([9, 6, 1, 7, 5, 6, 6, 3, 5, 4, 4, 9, 1, 3, 5, 1, 8, 3, 0, 5, 6, 9, 0, 8,\n",
      "        8, 7, 0, 8, 0, 3, 4, 8, 0, 6, 9, 2, 6, 0, 3, 6, 3, 1, 4, 0, 8, 4, 4, 4,\n",
      "        1, 5, 8, 1, 8, 9, 6, 8, 3, 9, 7, 2, 4, 0, 3, 1])\n",
      "Epoch 10, Loss: 0.0000\n",
      "tensor([5, 7, 4, 0, 9, 5, 8, 7, 9, 7, 8, 7, 4, 5, 3, 7, 0, 1, 5, 6, 8, 1, 1, 3,\n",
      "        4, 6, 1, 9, 2, 5, 2, 1, 8, 1, 8, 4, 6, 7, 6, 6, 9, 8, 4, 1, 7, 3, 6, 6,\n",
      "        4, 5, 0, 2, 4, 4, 6, 5, 1, 6, 8, 3, 1, 1, 4, 0])\n",
      "Epoch 11, Loss: 0.0000\n",
      "tensor([2, 8, 7, 1, 1, 9, 9, 3, 5, 2, 8, 2, 3, 9, 7, 4, 5, 8, 2, 9, 8, 1, 7, 7,\n",
      "        1, 9, 7, 9, 1, 4, 6, 1, 9, 2, 8, 1, 1, 1, 3, 5, 2, 8, 8, 8, 7, 3, 9, 2,\n",
      "        7, 5, 2, 2, 0, 1, 6, 1, 9, 3, 9, 4, 9, 4, 0, 2])\n",
      "Epoch 12, Loss: 0.0000\n",
      "tensor([4, 7, 9, 3, 1, 0, 2, 8, 8, 8, 3, 4, 8, 2, 7, 3, 5, 2, 0, 1, 3, 4, 9, 1,\n",
      "        6, 5, 5, 1, 0, 1, 3, 7, 0, 7, 0, 6, 4, 9, 7, 8, 2, 5, 7, 7, 2, 9, 0, 4,\n",
      "        5, 7, 8, 8, 6, 4, 9, 8, 1, 3, 7, 0, 2, 0, 3, 7])\n",
      "Epoch 13, Loss: 0.0000\n",
      "tensor([6, 3, 1, 7, 0, 5, 2, 6, 1, 4, 8, 3, 4, 5, 3, 6, 6, 8, 5, 7, 0, 0, 0, 3,\n",
      "        0, 4, 8, 2, 5, 2, 5, 7, 7, 1, 2, 4, 3, 6, 2, 1, 5, 4, 9, 9, 3, 1, 2, 5,\n",
      "        3, 7, 4, 9, 0, 6, 2, 1, 8, 1, 2, 0, 5, 3, 0, 5])\n",
      "Epoch 14, Loss: 0.0000\n",
      "tensor([4, 7, 3, 0, 1, 8, 7, 3, 6, 2, 2, 1, 8, 8, 1, 5, 9, 8, 2, 3, 2, 4, 7, 1,\n",
      "        4, 6, 1, 2, 1, 3, 5, 4, 5, 5, 1, 6, 7, 7, 7, 8, 0, 1, 9, 0, 2, 6, 5, 9,\n",
      "        6, 8, 0, 5, 8, 5, 2, 8, 0, 9, 6, 6, 7, 6, 6, 9])\n",
      "Epoch 15, Loss: 0.0000\n"
     ]
    }
   ],
   "source": [
    "for epoch in range(15):\n",
    "    running_loss = 0.0\n",
    "    for images, labels in train_loader:\n",
    "        optimizer.zero_grad()\n",
    "        print(labels)\n",
    "        break\n",
    "        outputs = model(images)\n",
    "        loss = criterion(outputs, labels)\n",
    "        loss.backward()\n",
    "        optimizer.step()\n",
    "\n",
    "        running_loss += loss.item()\n",
    "    print(f\"Epoch {epoch+1}, Loss: {running_loss/len(train_loader):.4f}\")"
   ]
  },
  {
   "cell_type": "code",
   "execution_count": 33,
   "id": "8f32f301",
   "metadata": {},
   "outputs": [],
   "source": [
    "torch.save(model.state_dict(), \"../data/models/mnist_model.pth\")"
   ]
  },
  {
   "cell_type": "code",
   "execution_count": null,
   "id": "429626c2",
   "metadata": {},
   "outputs": [],
   "source": []
  }
 ],
 "metadata": {
  "kernelspec": {
   "display_name": "uni_deep_learning",
   "language": "python",
   "name": "python3"
  },
  "language_info": {
   "codemirror_mode": {
    "name": "ipython",
    "version": 3
   },
   "file_extension": ".py",
   "mimetype": "text/x-python",
   "name": "python",
   "nbconvert_exporter": "python",
   "pygments_lexer": "ipython3",
   "version": "3.10.15"
  }
 },
 "nbformat": 4,
 "nbformat_minor": 5
}
